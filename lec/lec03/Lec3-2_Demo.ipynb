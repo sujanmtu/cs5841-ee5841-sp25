{
 "cells": [
  {
   "cell_type": "markdown",
   "id": "c397dc69-50aa-4572-9396-d5f410430142",
   "metadata": {},
   "source": [
    "# Case Study: Python Demo - Implementing Gaussian Naive Bayes Assisted Spam Email Filtering"
   ]
  },
  {
   "cell_type": "code",
   "execution_count": null,
   "id": "5cb86790-14b0-4479-aed6-da85a5ac7cd7",
   "metadata": {},
   "outputs": [],
   "source": [
    "# Import Libraries and Dataset\n",
    "import numpy as np\n",
    "import pandas as pd\n",
    "from sklearn.naive_bayes import GaussianNB\n",
    "from sklearn.model_selection import train_test_split\n",
    "from sklearn.metrics import accuracy_score, confusion_matrix"
   ]
  },
  {
   "cell_type": "markdown",
   "id": "89f3419f-6f80-4747-a740-3dd43b28b0d0",
   "metadata": {},
   "source": [
    "# Create the experimental dataset for spam/non-spam email"
   ]
  },
  {
   "cell_type": "code",
   "execution_count": null,
   "id": "b7f0c5ed-c586-4643-9142-252376b0aaa4",
   "metadata": {},
   "outputs": [],
   "source": [
    "# Create the dataset--Using Panda's DataFrame\n",
    "# Step 1: Prepare a larger dataset\n",
    "data = {\n",
    "    'EmailID': np.arange(1, 21),\n",
    "    'WordCount': [350, 200, 500, 150, 300, 450, 600, 250, 550, 400, 700, 100, 450, 370, 650, 230, 510, 330, 600, 220],  # Example feature: Word count in email\n",
    "    'CapFrequency': [2, 1, 3, 0, 4, 2, 3, 1, 3, 0, 5, 0, 2, 3, 4, 1, 3, 2, 4, 1],  # Example feature: Capital letter frequency\n",
    "    'Spam': [1, 0, 1, 0, 1, 0, 1, 0, 1, 0, 1, 0, 1, 0, 1, 0, 1, 0, 1, 0]  # Target: 1 = Spam, 0 = Not Spam\n",
    "}\n",
    "\n",
    "df = pd.DataFrame(data)"
   ]
  },
  {
   "cell_type": "markdown",
   "id": "fdbb02d4-93b1-4328-86a8-82edd17c5de3",
   "metadata": {},
   "source": [
    "# Features and Labels and Split Data into Training and Testing"
   ]
  },
  {
   "cell_type": "code",
   "execution_count": null,
   "id": "aee29860-26d3-44ae-ad96-33acc62eb1f4",
   "metadata": {},
   "outputs": [],
   "source": [
    "# Features and target variable\n",
    "X = df[['WordCount', 'CapFrequency']]  # Features: WordCount, CapFrequency\n",
    "y = df['Spam']  # Target: Spam (1) or Not Spam (0)\n",
    "\n",
    "# Split into Training and Test Data\n",
    "X_train, X_test, y_train, y_test = train_test_split(X, y, test_size=0.2, random_state=42)\n",
    "\n",
    "# Check the split sizes\n",
    "print(f\"Training Set Size: {X_train.shape}\")\n",
    "print(f\"Test Set Size: {X_test.shape}\")"
   ]
  },
  {
   "cell_type": "markdown",
   "id": "901314ef-0bf7-4dcc-8bb4-f02fe1449786",
   "metadata": {},
   "source": [
    "# Train the Model"
   ]
  },
  {
   "cell_type": "code",
   "execution_count": null,
   "id": "fe40456d-7316-4ad2-add6-50bb1a2ce5e6",
   "metadata": {},
   "outputs": [],
   "source": [
    "# Initialize the Gaussian Naive Bayes model\n",
    "gnb = GaussianNB()\n",
    "\n",
    "# Train the model\n",
    "gnb.fit(X_train, y_train)\n",
    "\n",
    "# Print the model parameters (mean and variance for each feature in each class)\n",
    "print(\"Model Parameters (Mean and Variance):\")\n",
    "print(f\"Class 0 (Not Spam) - Mean: {gnb.theta_[0]}, Variance: {gnb.var_[0]}\")\n",
    "print(f\"Class 1 (Spam) - Mean: {gnb.theta_[1]}, Variance: {gnb.var_[1]}\")"
   ]
  },
  {
   "cell_type": "markdown",
   "id": "a5217676-ba8f-46b2-9c2f-3027c031ed9c",
   "metadata": {},
   "source": [
    "# Make Predictions"
   ]
  },
  {
   "cell_type": "code",
   "execution_count": null,
   "id": "ac23bd15-4857-4045-be2a-3f0b8b9bdab4",
   "metadata": {},
   "outputs": [],
   "source": [
    "y_pred = gnb.predict(X_test)\n",
    "\n",
    "# Print the predicted and actual labels\n",
    "print(\"\\nPredictions:\", y_pred)\n",
    "print(\"Actual Labels:\", y_test.values)\n",
    "\n",
    "# Step 5: Evaluate the model\n",
    "accuracy = accuracy_score(y_test, y_pred)\n",
    "print(f\"\\nModel Accuracy: {accuracy * 100:.2f}%\")\n",
    "\n",
    "# Confusion Matrix\n",
    "cm = confusion_matrix(y_test, y_pred)\n",
    "print(\"\\nConfusion Matrix:\")\n",
    "print(cm)"
   ]
  }
 ],
 "metadata": {
  "kernelspec": {
   "display_name": "Python (otter_env)",
   "language": "python",
   "name": "otter_env"
  },
  "language_info": {
   "codemirror_mode": {
    "name": "ipython",
    "version": 3
   },
   "file_extension": ".py",
   "mimetype": "text/x-python",
   "name": "python",
   "nbconvert_exporter": "python",
   "pygments_lexer": "ipython3",
   "version": "3.8.0"
  }
 },
 "nbformat": 4,
 "nbformat_minor": 5
}
