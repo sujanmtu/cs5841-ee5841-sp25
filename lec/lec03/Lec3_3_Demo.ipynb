{
  "cells": [
    {
      "cell_type": "markdown",
      "metadata": {
        "id": "Qu11X6qxF4mI"
      },
      "source": [
        "# Case Study: Predicting House Prices Using Linear Regression\n",
        "Step-by-step guide on predicting house prices using linear regression with one independent variable (square footage), including a Python demo and visualizations."
      ]
    },
    {
      "cell_type": "markdown",
      "metadata": {
        "id": "AU6Sht98G1Cq"
      },
      "source": [
        "### Step 1: Define the Problem\n",
        "\n",
        "We want to predict house prices based on square footage. The linear regression model will have the following form:\n",
        "\n",
        "$y = \\theta_0 + \\theta_1 x_1$\n",
        "\n",
        "Where:\n",
        "\n",
        "- $y$ = Price of the house\n",
        "- $x_1$ = Square footage of the house\n",
        "- $ \\theta_0 $ = Intercept (bias term)\n",
        "- $ \\theta_1 $ = Coefficient for square footage (the weight)\n"
      ]
    },
    {
      "cell_type": "markdown",
      "metadata": {
        "id": "09KeEHycHHiD"
      },
      "source": [
        "### Step 2: Data Collection and Preprocessing\n",
        "\n",
        "Here’s a small dataset for house prices:\n",
        "\n",
        "| Square Footage ($x_1$) | Price ($y$)   |\n",
        "|------------------------|---------------|\n",
        "| 1500                   | 350,000       |\n",
        "| 1800                   | 450,000       |\n",
        "| 2400                   | 500,000       |\n",
        "| 3000                   | 600,000       |\n",
        "| 1200                   | 250,000       |\n",
        "\n",
        "We’ll use this data to train and test our linear regression model.\n"
      ]
    },
    {
      "cell_type": "markdown",
      "metadata": {
        "id": "BFPbxyHkHUrZ"
      },
      "source": [
        "# Step 3: Model Building\n",
        "Let’s import necessary libraries and create our model."
      ]
    },
    {
      "cell_type": "code",
      "execution_count": 83,
      "metadata": {
        "id": "Mx7exSzGF1mO"
      },
      "outputs": [],
      "source": [
        "#import packages\n",
        "import numpy as np\n",
        "import matplotlib.pyplot as plt\n",
        "from sklearn.linear_model import LinearRegression\n",
        "from sklearn.model_selection import train_test_split\n",
        "from sklearn.metrics import mean_squared_error, r2_score"
      ]
    },
    {
      "cell_type": "markdown",
      "metadata": {
        "id": "vcEBx4mZHhYU"
      },
      "source": [
        "#Generate Data"
      ]
    },
    {
      "cell_type": "code",
      "execution_count": null,
      "metadata": {
        "id": "y6wA4OF3HjiL"
      },
      "outputs": [],
      "source": [
        "# Small Data\n",
        "X = np.array([1500, 1800, 2400, 3000, 1200]).reshape(-1, 1)  # Square footage\n",
        "y = np.array([350000, 450000, 500000, 600000, 250000])  # Prices"
      ]
    },
    {
      "cell_type": "code",
      "execution_count": null,
      "metadata": {
        "id": "gzY0qo3iIR0j"
      },
      "outputs": [],
      "source": [
        "# Simulate a large dataset (1000 data points)\n",
        "np.random.seed(42)  # For reproducibility\n",
        "X = np.random.uniform(1000, 4000, 1000).reshape(-1, 1)  # Square footage between 1000 and 4000\n",
        "\n",
        "# Generate corresponding house prices (y) based on the relationship: y = 100 * X + 50000 + noise\n",
        "y = 100 * X.flatten() + 50000 + np.random.normal(0, 50000, 1000)  # Adding some noise to the data\n",
        "\n",
        "print(f\"X shape: {X.shape}\")  # Should print (1000, 1)\n",
        "print(f\"y shape: {y.shape}\")  # Should print (1000,)\n"
      ]
    },
    {
      "cell_type": "markdown",
      "metadata": {
        "id": "fVd1maLgHqHt"
      },
      "source": [
        "# Step 4: Splitting the Data\n",
        "We will split the dataset into training and testing sets to evaluate the model's performance."
      ]
    },
    {
      "cell_type": "code",
      "execution_count": null,
      "metadata": {
        "id": "cPPeFHKIHmtS"
      },
      "outputs": [],
      "source": [
        "# Split data into training and testing sets (80% train, 20% test)\n",
        "X_train, X_test, y_train, y_test = train_test_split(X, y, test_size=0.2, random_state=42)\n",
        "\n",
        "print(f\"Training data size: {len(X_train)}\")\n",
        "print(f\"Testing data size: {len(X_test)}\")"
      ]
    },
    {
      "cell_type": "markdown",
      "metadata": {
        "id": "-hrBCQuKHt9T"
      },
      "source": [
        "# Step 5: Model Training\n",
        "Now we will train the linear regression model using the training data."
      ]
    },
    {
      "cell_type": "code",
      "execution_count": null,
      "metadata": {
        "id": "1EQvVutxH3eq"
      },
      "outputs": [],
      "source": [
        "# Initialize and train the linear regression model\n",
        "model = LinearRegression()\n",
        "model.fit(X_train, y_train)\n",
        "\n",
        "# Get the learned parameters\n",
        "theta_0 = model.intercept_  # Intercept\n",
        "theta_1 = model.coef_[0]    # Coefficient for square footage\n",
        "\n",
        "print(f\"Intercept (θ0): {theta_0}\")\n",
        "print(f\"Coefficient (θ1): {theta_1}\")\n"
      ]
    },
    {
      "cell_type": "markdown",
      "metadata": {
        "id": "OYgF7fDBH547"
      },
      "source": [
        "# Step 6: Model Evaluation\n",
        "After training the model, we evaluate its performance on the test data using metrics like Mean Squared Error (MSE) and R-squared (R²)."
      ]
    },
    {
      "cell_type": "code",
      "execution_count": null,
      "metadata": {
        "id": "55Yiw1y4H9yJ"
      },
      "outputs": [],
      "source": [
        "# Predict house prices on the test set\n",
        "y_pred = model.predict(X_test)\n",
        "mse = mean_squared_error(y_test, y_pred)\n",
        "r2 = r2_score(y_test, y_pred)\n",
        "\n",
        "print(f\"Mean Squared Error (MSE): {mse}\")\n",
        "print(f\"R-squared (R²): {r2}\")\n"
      ]
    },
    {
      "cell_type": "markdown",
      "metadata": {
        "id": "JtBSWk08IAr0"
      },
      "source": [
        "# Step 7: Making Predictions\n",
        "Once the model is trained, we can use it to make predictions. For example, to predict the price of a house with 2200 square feet:"
      ]
    },
    {
      "cell_type": "code",
      "execution_count": null,
      "metadata": {
        "id": "3usTmXvYID1n"
      },
      "outputs": [],
      "source": [
        "# Predict the price for a house with 2200 square feet\n",
        "predicted_price = model.predict(np.array([[2200]]))\n",
        "# Access the scalar value from the array and format it\n",
        "print(f\"Predicted price for a 2200 sqft house: ${predicted_price[0]:,.2f}\")"
      ]
    },
    {
      "cell_type": "markdown",
      "metadata": {
        "id": "Djzwu3qPIGp7"
      },
      "source": [
        "# Step 8: Visualization\n",
        "We will plot the data points and the regression line to visualize the model."
      ]
    },
    {
      "cell_type": "code",
      "execution_count": null,
      "metadata": {
        "id": "uz1HK9zoIJtV"
      },
      "outputs": [],
      "source": [
        "# Plotting the actual data and regression line\n",
        "plt.scatter(X_test, y_test, color='blue', label='Training Data')  # Scatter plot for the actual data\n",
        "plt.plot(X_test, model.predict(X_test), color='red', label='Regression Line')  # Plotting the regression line\n",
        "plt.xlabel('Square Footage')\n",
        "plt.ylabel('Price')\n",
        "plt.legend()\n",
        "plt.show()\n"
      ]
    }
  ],
  "metadata": {
    "colab": {
      "provenance": []
    },
    "kernelspec": {
      "display_name": "Python 3",
      "name": "python3"
    },
    "language_info": {
      "name": "python"
    }
  },
  "nbformat": 4,
  "nbformat_minor": 0
}