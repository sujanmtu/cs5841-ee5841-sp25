{
  "cells": [
    {
      "cell_type": "markdown",
      "id": "70b67a6b",
      "metadata": {
        "id": "70b67a6b"
      },
      "source": [
        "\n",
        "# Case Study: Stock Price Prediction using Polynomial Regression\n",
        "\n",
        "This notebook demonstrates the process of simulating stock price data and predicting future stock prices using polynomial regression. We will walk through the following steps:\n",
        "\n",
        "1. **Data Generation and Preprocessing**: Simulate stock prices using random daily returns, handle missing values, and normalize the data.\n",
        "2. **Feature Transformation**: Apply polynomial feature transformation to model non-linear relationships.\n",
        "3. **Model Fitting**: Train a polynomial regression model and visualize its performance.\n",
        "4. **Model Evaluation**: Evaluate the model's performance using metrics like RMSE and R².\n",
        "5. **Final Model and Prediction**: Use the trained model to predict future stock prices.\n",
        "\n",
        "Let's get started!\n"
      ]
    },
    {
      "cell_type": "code",
      "execution_count": null,
      "id": "083dce62",
      "metadata": {
        "id": "083dce62"
      },
      "outputs": [],
      "source": [
        "# Import Required Packages\n",
        "import pandas as pd\n",
        "import numpy as np\n",
        "import matplotlib.pyplot as plt\n",
        "from sklearn.preprocessing import PolynomialFeatures\n",
        "from sklearn.model_selection import train_test_split\n",
        "from sklearn.linear_model import LinearRegression\n",
        "from sklearn.metrics import mean_squared_error, r2_score\n",
        "from math import sqrt\n",
        "from sklearn.preprocessing import StandardScaler\n"
      ]
    },
    {
      "cell_type": "markdown",
      "id": "21e9fc52",
      "metadata": {
        "id": "21e9fc52"
      },
      "source": [
        "## Step 1 - Data Generation and Preprocessing\n",
        "\n",
        "In this step, we will simulate stock prices by generating random daily returns based on a normal distribution. We will then preprocess the data by handling missing values and normalizing the features.\n"
      ]
    },
    {
      "cell_type": "markdown",
      "source": [
        "**Data Generation**"
      ],
      "metadata": {
        "id": "w6924aJ5WSyA"
      },
      "id": "w6924aJ5WSyA"
    },
    {
      "cell_type": "code",
      "execution_count": null,
      "id": "4fe4e495",
      "metadata": {
        "id": "4fe4e495"
      },
      "outputs": [],
      "source": [
        "\n",
        "# Initial stock price and volatility\n",
        "initial_price = 100  # Starting stock price\n",
        "volatility = 1  # Standard deviation of daily returns\n",
        "n_days = 500  # Number of days to simulate\n",
        "\n",
        "# Generate random daily returns (normally distributed)\n",
        "daily_returns = np.random.normal(loc=0, scale=volatility, size=n_days)\n",
        "\n",
        "# Simulate stock price as a random walk\n",
        "stock_prices = initial_price + np.cumsum(daily_returns)  # Cumulative sum to get price path\n",
        "\n",
        "# Create the DataFrame with the generated stock price data\n",
        "df = pd.DataFrame({\n",
        "    'Date': pd.date_range(start=\"2020-01-01\", periods=n_days, freq='D'),  # 500 days\n",
        "    'Stock Price': stock_prices\n",
        "})"
      ]
    },
    {
      "cell_type": "markdown",
      "source": [
        "**Data Preprocessing**"
      ],
      "metadata": {
        "id": "j-ZKfnDpWYCK"
      },
      "id": "j-ZKfnDpWYCK"
    },
    {
      "cell_type": "code",
      "source": [
        "# Handle missing values (if any)\n",
        "df['Stock Price'].interpolate(inplace=True)\n",
        "\n",
        "# Feature engineering: Add moving average as an additional feature\n",
        "df['Moving Average'] = df['Stock Price'].rolling(window=5).mean()\n",
        "\n",
        "# Normalize features\n",
        "scaler = StandardScaler()\n",
        "df['Date'] = (df['Date'] - df['Date'].min()).dt.days  # Convert date to days\n",
        "df[['Date', 'Stock Price']] = scaler.fit_transform(df[['Date', 'Stock Price']])"
      ],
      "metadata": {
        "id": "St8ZnXvOWYPh"
      },
      "id": "St8ZnXvOWYPh",
      "execution_count": null,
      "outputs": []
    },
    {
      "cell_type": "markdown",
      "source": [
        "# Visualize the Generated Data"
      ],
      "metadata": {
        "id": "3vapxSa9WE2R"
      },
      "id": "3vapxSa9WE2R"
    },
    {
      "cell_type": "code",
      "source": [
        "# Visualize the stock price data\n",
        "plt.figure(figsize=(10, 5))\n",
        "plt.plot(df['Date'], df['Stock Price'], label='Stock Price')\n",
        "plt.xlabel('Days')\n",
        "plt.ylabel('Normalized Stock Price')\n",
        "plt.title('Simulated Stock Prices over Time')\n",
        "plt.legend()\n",
        "plt.show()"
      ],
      "metadata": {
        "id": "LpSMUet3WFvs"
      },
      "id": "LpSMUet3WFvs",
      "execution_count": null,
      "outputs": []
    },
    {
      "cell_type": "markdown",
      "id": "a98ff7b5",
      "metadata": {
        "id": "a98ff7b5"
      },
      "source": [
        "\n",
        "## Step 2 - Feature Transformation\n",
        "\n",
        "Here, we will experiment with polynomial transformations of the feature (Date) to capture non-linear relationships between the stock price and time.\n"
      ]
    },
    {
      "cell_type": "code",
      "execution_count": null,
      "id": "1ad743e3",
      "metadata": {
        "id": "1ad743e3"
      },
      "outputs": [],
      "source": [
        "\n",
        "# Polynomial Degree: Experiment with degree 2, 3, or 4\n",
        "poly_degree = 3  # Change this to 2 or 4 to experiment with different complexity\n",
        "poly = PolynomialFeatures(degree=poly_degree)\n",
        "\n",
        "# Prepare data for polynomial regression\n",
        "X = df[['Date']].values\n",
        "y = df['Stock Price'].values\n",
        "\n",
        "# Transform the feature into polynomial terms (degree 3 for example)\n",
        "X_poly = poly.fit_transform(X)"
      ]
    },
    {
      "cell_type": "markdown",
      "source": [
        "# Visualize the transformed features"
      ],
      "metadata": {
        "id": "FYT7keDBWr4b"
      },
      "id": "FYT7keDBWr4b"
    },
    {
      "cell_type": "code",
      "source": [
        "# Visualize the transformed features\n",
        "plt.figure(figsize=(12, 6))\n",
        "\n",
        "# Original feature (Date) vs Stock Price\n",
        "plt.subplot(1, 2, 1)\n",
        "plt.scatter(X, y, color='blue', label='Original data')\n",
        "plt.xlabel('Date (Transformed)')\n",
        "plt.ylabel('Stock Price')\n",
        "plt.title('Original Feature vs Stock Price')\n",
        "plt.legend()\n",
        "\n",
        "# Transformed features (Degree 3): Date, Date^2, Date^3 vs Stock Price\n",
        "X_poly_transformed = poly.fit_transform(X)\n",
        "plt.subplot(1, 2, 2)\n",
        "plt.plot(X, X_poly_transformed[:, 1], color='orange', label='$x$ (Date)')\n",
        "plt.plot(X, X_poly_transformed[:, 2], color='green', label='$x^2$ (Date^2)')\n",
        "plt.plot(X, X_poly_transformed[:, 3], color='red', label='$x^3$ (Date^3)')\n",
        "plt.xlabel('Date')\n",
        "plt.ylabel('Transformed Features')\n",
        "plt.title(f'Transformed Features (Polynomial Degree {poly_degree})')\n",
        "plt.legend()\n",
        "\n",
        "plt.tight_layout()\n",
        "plt.show()"
      ],
      "metadata": {
        "id": "ugew9w8YWsHG"
      },
      "id": "ugew9w8YWsHG",
      "execution_count": null,
      "outputs": []
    },
    {
      "cell_type": "markdown",
      "id": "a1a0f34a",
      "metadata": {
        "id": "a1a0f34a"
      },
      "source": [
        "\n",
        "## Step 3 - Model Fitting\n",
        "\n",
        "Now, we will split the data into training and testing sets, fit a polynomial regression model, and visualize the predicted stock prices.\n"
      ]
    },
    {
      "cell_type": "code",
      "execution_count": null,
      "id": "1a075c09",
      "metadata": {
        "id": "1a075c09"
      },
      "outputs": [],
      "source": [
        "\n",
        "# Splitting the Data (80% train, 20% test)\n",
        "X_train, X_test, y_train, y_test = train_test_split(X_poly, y, test_size=0.2, random_state=42)\n",
        "\n",
        "# Fit the polynomial regression model\n",
        "model = LinearRegression()\n",
        "model.fit(X_train, y_train)\n",
        "\n",
        "# Predict the stock prices using the fitted model\n",
        "y_pred = model.predict(X_poly)\n",
        "\n",
        "plt.scatter(X, y, color='blue', label='Actual Data')\n",
        "plt.plot(X, y_pred, color='red', label=f'Polynomial Fit (Degree {poly_degree})')\n",
        "plt.xlabel('Date')\n",
        "plt.ylabel('Stock Price')\n",
        "plt.title(f'Polynomial Regression for Stock Price Prediction (Degree {poly_degree})')\n",
        "plt.legend()\n",
        "plt.show()\n"
      ]
    },
    {
      "cell_type": "markdown",
      "id": "83de9054",
      "metadata": {
        "id": "83de9054"
      },
      "source": [
        "\n",
        "## Step 4 - Final Model Evaluation and Prediction\n",
        "\n"
      ]
    },
    {
      "cell_type": "code",
      "source": [
        "from sklearn.metrics import mean_squared_error, r2_score\n",
        "\n",
        "# Predict the stock prices on the training and test sets\n",
        "y_train_pred = model.predict(X_train)\n",
        "y_test_pred = model.predict(X_test)\n",
        "\n",
        "rmse_train = sqrt(mean_squared_error(y_train, y_train_pred))  # Root Mean Squared Error for training data\n",
        "rmse_test = sqrt(mean_squared_error(y_test, y_test_pred))  # Root Mean Squared Error for testing data\n",
        "r2_train = r2_score(y_train, y_train_pred)  # R-squared for training data\n",
        "r2_test = r2_score(y_test, y_test_pred)  # R-squared for testing data\n",
        "\n",
        "print(f'Root Mean Squared Error (RMSE) for Training Data: {rmse_train}')\n",
        "print(f'Root Mean Squared Error (RMSE) for Testing Data: {rmse_test}')\n",
        "print(f'R-squared (R²) for Training Data: {r2_train}')\n",
        "print(f'R-squared (R²) for Testing Data: {r2_test}')"
      ],
      "metadata": {
        "id": "Az-2SLsRVIFs"
      },
      "id": "Az-2SLsRVIFs",
      "execution_count": null,
      "outputs": []
    }
  ],
  "metadata": {
    "colab": {
      "provenance": []
    },
    "language_info": {
      "name": "python"
    },
    "kernelspec": {
      "name": "python3",
      "display_name": "Python 3"
    }
  },
  "nbformat": 4,
  "nbformat_minor": 5
}