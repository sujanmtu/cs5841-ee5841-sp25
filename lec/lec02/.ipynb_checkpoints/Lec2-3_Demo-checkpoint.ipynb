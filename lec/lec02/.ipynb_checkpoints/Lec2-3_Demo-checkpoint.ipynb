{
 "cells": [
  {
   "cell_type": "markdown",
   "id": "14f6fc5b-6b54-48da-852a-1371a15270e9",
   "metadata": {},
   "source": [
    "Case Study - Email Spam Classification using Naive Bayes"
   ]
  },
  {
   "cell_type": "code",
   "execution_count": 1,
   "id": "997bc7e6-3d09-4d93-a144-2134dcfc1c69",
   "metadata": {},
   "outputs": [
    {
     "ename": "ModuleNotFoundError",
     "evalue": "No module named 'sklearn'",
     "output_type": "error",
     "traceback": [
      "\u001b[0;31m---------------------------------------------------------------------------\u001b[0m",
      "\u001b[0;31mModuleNotFoundError\u001b[0m                       Traceback (most recent call last)",
      "Cell \u001b[0;32mIn[1], line 2\u001b[0m\n\u001b[1;32m      1\u001b[0m \u001b[38;5;66;03m# Import Libraries\u001b[39;00m\n\u001b[0;32m----> 2\u001b[0m \u001b[38;5;28;01mfrom\u001b[39;00m \u001b[38;5;21;01msklearn\u001b[39;00m\u001b[38;5;21;01m.\u001b[39;00m\u001b[38;5;21;01mfeature_extraction\u001b[39;00m\u001b[38;5;21;01m.\u001b[39;00m\u001b[38;5;21;01mtext\u001b[39;00m \u001b[38;5;28;01mimport\u001b[39;00m CountVectorizer\n\u001b[1;32m      3\u001b[0m \u001b[38;5;28;01mfrom\u001b[39;00m \u001b[38;5;21;01msklearn\u001b[39;00m\u001b[38;5;21;01m.\u001b[39;00m\u001b[38;5;21;01mnaive_bayes\u001b[39;00m \u001b[38;5;28;01mimport\u001b[39;00m MultinomialNB\n\u001b[1;32m      4\u001b[0m \u001b[38;5;28;01mfrom\u001b[39;00m \u001b[38;5;21;01msklearn\u001b[39;00m\u001b[38;5;21;01m.\u001b[39;00m\u001b[38;5;21;01mmodel_selection\u001b[39;00m \u001b[38;5;28;01mimport\u001b[39;00m train_test_split\n",
      "\u001b[0;31mModuleNotFoundError\u001b[0m: No module named 'sklearn'"
     ]
    }
   ],
   "source": [
    "# Import Libraries\n",
    "from sklearn.feature_extraction.text import CountVectorizer\n",
    "from sklearn.naive_bayes import MultinomialNB\n",
    "from sklearn.model_selection import train_test_split\n",
    "from sklearn.metrics import accuracy_score"
   ]
  },
  {
   "cell_type": "markdown",
   "id": "f24bd88a-a18e-44e3-aab4-94d1b7c1b1e4",
   "metadata": {},
   "source": [
    "Sample Dataset and Levels"
   ]
  },
  {
   "cell_type": "code",
   "execution_count": null,
   "id": "fbe62f2b-b818-4c55-a396-3e5d5c4525c5",
   "metadata": {},
   "outputs": [],
   "source": [
    "# Sample dataset\n",
    "emails = [\n",
    "    \"Congratulations, you won a prize! Claim your free gift now\",\n",
    "    \"Your invoice for the purchase is attached\",\n",
    "    \"Get rich quick with this limited offer\",\n",
    "    \"Important update regarding your account\"\n",
    "]\n",
    "\n",
    "labels = [1, 0, 1, 0]  # 1 = spam, 0 = not spam\n"
   ]
  },
  {
   "cell_type": "markdown",
   "id": "70be867c-44f3-46db-9ef4-23f8078bea13",
   "metadata": {},
   "source": [
    "A sample dataset might look like this:\n",
    "\n",
    "| **Email ID** | **offer** | **winner** | **free** | **money** | **spam** |\n",
    "|--------------|-----------|------------|----------|-----------|----------|\n",
    "| 1            | 1         | 0          | 1        | 0         | 1        |\n",
    "| 2            | 0         | 0          | 0        | 1         | 0        |\n",
    "| 3            | 1         | 1          | 1        | 0         | 1        |\n",
    "| 4            | 0         | 0          | 0        | 0         | 0        |\n",
    "\n"
   ]
  },
  {
   "cell_type": "code",
   "execution_count": null,
   "id": "f7576f8d-2bbd-4b05-b944-38ebb8315032",
   "metadata": {},
   "outputs": [],
   "source": [
    "# Convert emails into feature vectors\n",
    "vectorizer = CountVectorizer()\n",
    "X = vectorizer.fit_transform(emails)"
   ]
  },
  {
   "cell_type": "code",
   "execution_count": null,
   "id": "8af77677-263b-4f4a-ba7d-7961c957152e",
   "metadata": {},
   "outputs": [],
   "source": [
    "# Split the data\n",
    "X_train, X_test, y_train, y_test = train_test_split(X, labels, test_size=0.2, random_state=42)"
   ]
  },
  {
   "cell_type": "code",
   "execution_count": null,
   "id": "89f2a1d2-a783-4930-8a10-c3d797effc52",
   "metadata": {},
   "outputs": [],
   "source": [
    "# Train Naive Bayes classifier\n",
    "model = MultinomialNB()\n",
    "model.fit(X_train, y_train)"
   ]
  },
  {
   "cell_type": "code",
   "execution_count": null,
   "id": "14d84a24-c3a8-4499-b7be-ac689d6310e8",
   "metadata": {},
   "outputs": [],
   "source": [
    "# Make predictions\n",
    "y_pred = model.predict(X_test)"
   ]
  },
  {
   "cell_type": "code",
   "execution_count": null,
   "id": "f27dbc6d-c197-486e-b93d-1fc324699797",
   "metadata": {},
   "outputs": [],
   "source": [
    "# Evaluate accuracy\n",
    "accuracy = accuracy_score(y_test, y_pred)\n",
    "print(f'Accuracy: {accuracy * 100:.2f}%')"
   ]
  }
 ],
 "metadata": {
  "kernelspec": {
   "display_name": "Python (otter_env)",
   "language": "python",
   "name": "otter_env"
  },
  "language_info": {
   "codemirror_mode": {
    "name": "ipython",
    "version": 3
   },
   "file_extension": ".py",
   "mimetype": "text/x-python",
   "name": "python",
   "nbconvert_exporter": "python",
   "pygments_lexer": "ipython3",
   "version": "3.8.0"
  }
 },
 "nbformat": 4,
 "nbformat_minor": 5
}
