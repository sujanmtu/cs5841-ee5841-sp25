{
 "cells": [
  {
   "cell_type": "markdown",
   "id": "14f6fc5b-6b54-48da-852a-1371a15270e9",
   "metadata": {},
   "source": [
    "Case Study - Email Spam Classification using Naive Bayes"
   ]
  },
  {
   "cell_type": "code",
   "execution_count": null,
   "id": "997bc7e6-3d09-4d93-a144-2134dcfc1c69",
   "metadata": {},
   "outputs": [],
   "source": [
    "# Import Libraries\n",
    "from sklearn.feature_extraction.text import CountVectorizer\n",
    "from sklearn.naive_bayes import MultinomialNB\n",
    "from sklearn.model_selection import train_test_split\n",
    "from sklearn.metrics import accuracy_score"
   ]
  },
  {
   "cell_type": "markdown",
   "id": "f24bd88a-a18e-44e3-aab4-94d1b7c1b1e4",
   "metadata": {},
   "source": [
    "Sample Dataset and Levels"
   ]
  },
  {
   "cell_type": "code",
   "execution_count": null,
   "id": "fbe62f2b-b818-4c55-a396-3e5d5c4525c5",
   "metadata": {},
   "outputs": [],
   "source": [
    "# Sample dataset\n",
    "emails = [\n",
    "    \"Congratulations, you won a prize! Claim your free gift now\",\n",
    "    \"Your invoice for the purchase is attached\",\n",
    "    \"Get rich quick with this limited offer\",\n",
    "    \"Important update regarding your account\"\n",
    "]\n",
    "\n",
    "labels = [1, 0, 1, 0]  # 1 = spam, 0 = not spam\n"
   ]
  }
 ],
 "metadata": {
  "kernelspec": {
   "display_name": "Python (otter_env)",
   "language": "python",
   "name": "otter_env"
  },
  "language_info": {
   "codemirror_mode": {
    "name": "ipython",
    "version": 3
   },
   "file_extension": ".py",
   "mimetype": "text/x-python",
   "name": "python",
   "nbconvert_exporter": "python",
   "pygments_lexer": "ipython3",
   "version": "3.8.0"
  }
 },
 "nbformat": 4,
 "nbformat_minor": 5
}
